{
 "cells": [
  {
   "cell_type": "markdown",
   "metadata": {},
   "source": [
    "## Original Data"
   ]
  },
  {
   "cell_type": "code",
   "execution_count": 12,
   "metadata": {},
   "outputs": [],
   "source": [
    "# Product Catalog data\n",
    "product_catalog = {\n",
    "    \"CPU-4\": { \"Manufacturer\": \"Raspberry Pi\", \"Name\": \"Raspberry Pi 4 Computer\", \"Category\": \"Computer\", \"Price\": 39.99 },\n",
    "    \"CPU-3B\": { \"Manufacturer\": \"Raspberry Pi\", \"Name\": \"Raspberry Pi 3B Computer\", \"Category\": \"Computer\", \"Price\": 29.99 },\n",
    "    \"CASE-4\": { \"Manufacturer\": \"Flirc\", \"Name\": \"Case for Raspberry Pi 4\", \"Category\": \"Case\", \"Price\": 15.95 },\n",
    "    \"CASE-3B\": { \"Manufacturer\": \"Flirc\", \"Name\": \"Case for Raspberry Pi 3B\", \"Category\": \"Case\", \"Price\": 15.95 },\n",
    "    \"POWER-4\": { \"Manufacturer\": \"CanaKit\", \"Name\": \"5V 3.5A Power Adapter for Raspberry Pi 4\", \"Category\": \"Power\", \"Price\": 12.99 },\n",
    "    \"POWER-3B\": { \"Manufacturer\": \"CanaKit\", \"Name\": \"5V 2.5A Power Adapter for Raspberry Pi 3B\", \"Category\": \"Power\", \"Price\": 9.99 },\n",
    "    \"CARD-32\": { \"Manufacturer\": \"SanDisk\", \"Name\": \"32GB Micro SD Card\", \"Category\": \"Storage\", \"Price\": 7.49 },\n",
    "    \"VIDEO-1\": { \"Manufacturer\": \"LCDBoard\", \"Name\": \"HDMI + VGA + DVI LCD Video Controller Board\", \"Category\": \"Video\", \"Price\": 29.88 },\n",
    "    \"JOY-1\": { \"Manufacturer\": \"Sanwa\", \"Name\": \"1-Player Joystick and LED Button Kit\", \"Category\": \"Controls\", \"Price\": 49.99 },\n",
    "    \"JOY-2\": { \"Manufacturer\": \"Sanwa\", \"Name\": \"2-Player Joystick and LED Button Kit\", \"Category\": \"Controls\", \"Price\": 89.99 }\n",
    "}\n",
    "\n",
    "# State Tax Rates data\n",
    "# state abbreviation: tax rate (0.08 = 8%)\n",
    "state_tax_rates = {\n",
    "    \"CT\": 0.06,\n",
    "    \"MA\": 0.06,\n",
    "    \"NJ\": 0.07,\n",
    "    \"NY\": 0.08,\n",
    "    \"PA\": 0.06\n",
    "}\n",
    "\n",
    "# Promo Codes data\n",
    "# promo code: discount rate (0.08 = 8%)\n",
    "promo_codes = {\n",
    "    \"VALENTINE\": 0.08,\n",
    "    \"RETROCADE\": 0.05,\n",
    "    \"PAC-MAN\": 0.03\n",
    "}\n",
    "\n",
    "# Last Months Order data\n",
    "last_months_order_data = (\n",
    "    { \"Order\": 538, \"State\": \"NY\", \"Parts\": [ { \"Part\": \"CPU-4\", \"Quantity\": 1 } ], \"Code\": \"\" },\n",
    "    { \"Order\": 539, \"State\": \"NY\", \"Parts\": [ { \"Part\": \"CPU-4\", \"Quantity\": 1 }, { \"Part\": \"POWER-4\", \"Quantity\": 1 } ], \"Code\": \"\" },\n",
    "    { \"Order\": 540, \"State\": \"CT\", \"Parts\": [ { \"Part\": \"CPU-3B\", \"Quantity\": 1 }, { \"Part\": \"VIDEO-1\", \"Quantity\": 1 }, \n",
    "                                             { \"Part\": \"JOY-1\", \"Quantity\": 1 } ], \"Code\": \"VALENTINE\"},\n",
    "    { \"Order\": 541, \"State\": \"MA\", \"Parts\": [ { \"Part\": \"CARD-32\", \"Quantity\": 1 } ], \"Code\": \"\" },\n",
    "    { \"Order\": 542, \"State\": \"NJ\", \"Parts\": [ { \"Part\": \"CPU-3B\", \"Quantity\": 1 }, { \"Part\": \"CASE-3B\", \"Quantity\": 1 }, \n",
    "                                             { \"Part\": \"POWER-3B\", \"Quantity\": 1 }, { \"Part\": \"VIDEO-1\", \"Quantity\": 1 } ], \n",
    "     \"Code\": \"PAC-MAN\" },\n",
    "    { \"Order\": 543, \"State\": \"PA\", \"Parts\": [ { \"Part\": \"CPU-4\", \"Quantity\": 1 }, { \"Part\": \"CASE-4\", \"Quantity\": 1 }, \n",
    "                                             { \"Part\": \"POWER-4\", \"Quantity\": 1 }, { \"Part\": \"CARD-32\", \"Quantity\": 1 }, \n",
    "                                             { \"Part\": \"VIDEO-1\", \"Quantity\": 1 }, { \"Part\": \"JOY-2\", \"Quantity\": 1 } ], \n",
    "     \"Code\": \"RETROCADE\" },\n",
    "    { \"Order\": 544, \"State\": \"NY\", \"Parts\": [ { \"Part\": \"CPU-3B\", \"Quantity\": 1 }, { \"Part\": \"CARD-32\", \"Quantity\": 1 } ], \n",
    "     \"Code\": \"\" },\n",
    "    { \"Order\": 545, \"State\": \"NY\", \"Parts\": [ { \"Part\": \"CPU-3B\", \"Quantity\": 1 }, { \"Part\": \"CASE-3B\", \"Quantity\": 1 }, \n",
    "                                             { \"Part\": \"POWER-3B\", \"Quantity\": 1 }, { \"Part\": \"CARD-32\", \"Quantity\": 1 }, \n",
    "                                             { \"Part\": \"VIDEO-1\", \"Quantity\": 1 }, { \"Part\": \"JOY-2\", \"Quantity\": 1 } ], \n",
    "     \"Code\": \"PAC-MAN\" },\n",
    "    { \"Order\": 546, \"State\": \"NY\", \"Parts\": [ { \"Part\": \"JOY-1\", \"Quantity\": 1 } ], \"Code\": \"VALENTINE\" },\n",
    "    { \"Order\": 547, \"State\": \"MA\", \"Parts\": [ { \"Part\": \"CPU-3B\", \"Quantity\": 2 }, { \"Part\": \"CASE-3B\", \"Quantity\": 2 } ], \n",
    "     \"Code\": \"RETROCADE\" },\n",
    "    { \"Order\": 548, \"State\": \"NJ\", \"Parts\": [ { \"Part\": \"CPU-4\", \"Quantity\": 10 } ], \"Code\": \"\" }\n",
    ")\n"
   ]
  },
  {
   "cell_type": "markdown",
   "metadata": {},
   "source": [
    "# Data Analysis"
   ]
  },
  {
   "cell_type": "markdown",
   "metadata": {},
   "source": [
    "## Create a Product Class"
   ]
  },
  {
   "cell_type": "code",
   "execution_count": 4,
   "metadata": {},
   "outputs": [],
   "source": [
    "class Product:\n",
    "    def __init__(self, part, manufacturer, name, category, price):\n",
    "        self.part = part\n",
    "        self.manufacturer = manufacturer\n",
    "        self.name = name\n",
    "        self.category = category\n",
    "        self.price = price\n"
   ]
  },
  {
   "cell_type": "markdown",
   "metadata": {},
   "source": [
    "## Create an Order Class"
   ]
  },
  {
   "cell_type": "code",
   "execution_count": 6,
   "metadata": {},
   "outputs": [],
   "source": [
    "class Order:\n",
    "    def __init__(self,order_number, tax_rate = 0, discount_rate = 0, products = None):\n",
    "        self.order_number = order_number\n",
    "        self.tax_rate = tax_rate\n",
    "        self.discount_rate = discount_rate\n",
    "        if products == None:\n",
    "            self.products = []\n",
    "        else:\n",
    "            self.products = products\n",
    "        self.getSubTotal()\n",
    "        \n",
    "    def addProduct(self, product):\n",
    "        products = []\n",
    "        self.products.append(product)\n",
    "        \n",
    "    def getSubTotal(self):\n",
    "        order_sub_total = 0\n",
    "        for product in self.products:\n",
    "            order_sub_total = order_sub_total + product.price\n",
    "        return order_sub_total\n",
    "    \n",
    "    def getTotal(self):\n",
    "        order_total = self.getSubTotal() * (1 - self.discount_rate) * (1 + self.tax_rate)\n",
    "        return order_total\n",
    "    \n",
    "    def getNumProducts(self):\n",
    "        num_products = len(self.products)\n",
    "        return num_products\n",
    "        "
   ]
  },
  {
   "cell_type": "markdown",
   "metadata": {},
   "source": [
    "## Code a createOrder Function\n",
    "Create a function which converts order data into an order object (including its aggregate product objects)."
   ]
  },
  {
   "cell_type": "code",
   "execution_count": 8,
   "metadata": {},
   "outputs": [],
   "source": [
    "def createOrder(order_number, parts_data, state_abbreviation, promo_code):\n",
    "    global state_tax_rates, promo_codes, product_catalog\n",
    "    tax_rate = state_tax_rates[state_abbreviation]\n",
    "    discount_rate = promo_codes.get(promo_code, 0)\n",
    "    order = Order(order_number, tax_rate, discount_rate)\n",
    "    for part_data in parts_data:\n",
    "        part = part_data['Part']\n",
    "        quantity = part_data['Quantity']\n",
    "        for i in range(quantity):\n",
    "            product = Product(part, product_catalog[part]['Manufacturer'],product_catalog[part]['Name'],\n",
    "                              product_catalog[part]['Category'],product_catalog[part]['Price'])\n",
    "            order.addProduct(product)\n",
    "\n",
    "    return order\n"
   ]
  },
  {
   "cell_type": "markdown",
   "metadata": {},
   "source": [
    "## Load Orders From the Data"
   ]
  },
  {
   "cell_type": "code",
   "execution_count": 9,
   "metadata": {},
   "outputs": [],
   "source": [
    "orders = []\n",
    "global last_months_order_data\n",
    "for data in last_months_order_data:\n",
    "    order_object = createOrder(data[\"Order\"],data[\"Parts\"],data[\"State\"],data[\"Code\"])\n",
    "    orders.append(order_object)\n"
   ]
  },
  {
   "cell_type": "markdown",
   "metadata": {},
   "source": [
    "# Data Visualization"
   ]
  },
  {
   "cell_type": "markdown",
   "metadata": {},
   "source": [
    "## Display an Order Summary Table"
   ]
  },
  {
   "cell_type": "code",
   "execution_count": 10,
   "metadata": {},
   "outputs": [
    {
     "name": "stdout",
     "output_type": "stream",
     "text": [
      "+-------+------+-----------+-------+----------+---------+\n",
      "| Order | Size | Sub-Total |  Tax  | Discount |  Total  |\n",
      "+-------+------+-----------+-------+----------+---------+\n",
      "|  538  |  1   |  $ 39.99  | 8.0 % |    -     | 43.189  |\n",
      "+-------+------+-----------+-------+----------+---------+\n",
      "|  539  |  2   |  $ 52.98  | 8.0 % |    -     | 57.218  |\n",
      "+-------+------+-----------+-------+----------+---------+\n",
      "|  540  |  3   | $ 109.86  | 6.0 % |  8.0 %   | 107.135 |\n",
      "+-------+------+-----------+-------+----------+---------+\n",
      "|  541  |  1   |  $ 7.49   | 6.0 % |    -     |  7.939  |\n",
      "+-------+------+-----------+-------+----------+---------+\n",
      "|  542  |  4   |  $ 85.81  | 7.0 % |  3.0 %   | 89.062  |\n",
      "+-------+------+-----------+-------+----------+---------+\n",
      "|  543  |  6   | $ 196.29  | 6.0 % |  5.0 %   | 197.664 |\n",
      "+-------+------+-----------+-------+----------+---------+\n",
      "|  544  |  2   |  $ 37.48  | 8.0 % |    -     | 40.478  |\n",
      "+-------+------+-----------+-------+----------+---------+\n",
      "|  545  |  6   | $ 183.29  | 8.0 % |  3.0 %   | 192.015 |\n",
      "+-------+------+-----------+-------+----------+---------+\n",
      "|  546  |  1   |  $ 49.99  | 8.0 % |  8.0 %   |  49.67  |\n",
      "+-------+------+-----------+-------+----------+---------+\n",
      "|  547  |  4   |  $ 91.88  | 6.0 % |  5.0 %   | 92.523  |\n",
      "+-------+------+-----------+-------+----------+---------+\n",
      "|  548  |  10  | $ 399.90  | 7.0 % |    -     | 427.893 |\n",
      "+-------+------+-----------+-------+----------+---------+\n"
     ]
    }
   ],
   "source": [
    "from beautifultable import BeautifulTable\n",
    "table = BeautifulTable()\n",
    "\n",
    "for order in orders:\n",
    "    rows = []\n",
    "    rows.append(order.order_number)\n",
    "    rows.append(order.getNumProducts())\n",
    "    rows.append(\"$ {:.2f}\".format(order.getSubTotal()))\n",
    "    rows.append(\"{:.1f} %\".format(order.tax_rate*100))\n",
    "    if order.discount_rate == 0:\n",
    "        rows.append(\"-\")\n",
    "    else:\n",
    "        rows.append(\"{:.1f} %\".format(order.discount_rate*100))\n",
    "    rows.append(order.getTotal())\n",
    "    table.rows.append(rows)\n",
    "table.columns.header = [\"Order\", \"Size\", \"Sub-Total\",\"Tax\",\"Discount\",\"Total\"]\n",
    "print(table)\n"
   ]
  },
  {
   "cell_type": "markdown",
   "metadata": {},
   "source": [
    "## Display a Monthly Revenue Summary Table"
   ]
  },
  {
   "cell_type": "code",
   "execution_count": 11,
   "metadata": {},
   "outputs": [
    {
     "name": "stdout",
     "output_type": "stream",
     "text": [
      "┌───────────────────────┬───────────┐\n",
      "│      total_num_orders │        11 │\n",
      "├───────────────────────┼───────────┤\n",
      "│    total_num_products │        40 │\n",
      "├───────────────────────┼───────────┤\n",
      "│         total_revenue │ $ 1304.79 │\n",
      "├───────────────────────┼───────────┤\n",
      "│    average_order_size │       3.6 │\n",
      "├───────────────────────┼───────────┤\n",
      "│ average_order_revenue │  $ 118.62 │\n",
      "└───────────────────────┴───────────┘\n"
     ]
    }
   ],
   "source": [
    "total_num_orders = len(orders)\n",
    "\n",
    "total_revenue = 0\n",
    "for order in orders:\n",
    "    total_revenue = total_revenue + order.getTotal()\n",
    "\n",
    "total_num_products = 0\n",
    "for order in orders:\n",
    "    total_num_products = total_num_products + order.getNumProducts()\n",
    "\n",
    "average_order_size = total_num_products / total_num_orders\n",
    "\n",
    "average_order_revenue = total_revenue / total_num_orders\n",
    "\n",
    "from beautifultable import BeautifulTable\n",
    "table = BeautifulTable()\n",
    "table.rows.append([\"total_num_orders\",total_num_orders])\n",
    "table.rows.append([\"total_num_products\",total_num_products])\n",
    "table.rows.append([\"total_revenue\",\"$ {:.2f}\".format(total_revenue)])\n",
    "table.rows.append([\"average_order_size\", \"{:.1f}\".format(average_order_size)])\n",
    "table.rows.append([\"average_order_revenue\",\"$ {:.2f}\".format(average_order_revenue)])\n",
    "\n",
    "for i in range(len(table.columns)):\n",
    "    table.columns.alignment[i] = BeautifulTable.ALIGN_RIGHT\n",
    "\n",
    "table.set_style(BeautifulTable.STYLE_BOX)\n",
    "print(table)"
   ]
  }
 ],
 "metadata": {
  "kernelspec": {
   "display_name": "Python 3 (ipykernel)",
   "language": "python",
   "name": "python3"
  },
  "language_info": {
   "codemirror_mode": {
    "name": "ipython",
    "version": 3
   },
   "file_extension": ".py",
   "mimetype": "text/x-python",
   "name": "python",
   "nbconvert_exporter": "python",
   "pygments_lexer": "ipython3",
   "version": "3.9.13"
  }
 },
 "nbformat": 4,
 "nbformat_minor": 2
}
